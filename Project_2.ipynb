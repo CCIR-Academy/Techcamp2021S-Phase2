{
  "nbformat": 4,
  "nbformat_minor": 0,
  "metadata": {
    "colab": {
      "name": "Project_2.ipynb",
      "provenance": [],
      "authorship_tag": "ABX9TyMmgjpyCpcLAbJodvoUMA97",
      "include_colab_link": true
    },
    "kernelspec": {
      "name": "python3",
      "display_name": "Python 3"
    },
    "language_info": {
      "name": "python"
    }
  },
  "cells": [
    {
      "cell_type": "markdown",
      "metadata": {
        "id": "view-in-github",
        "colab_type": "text"
      },
      "source": [
        "<a href=\"https://colab.research.google.com/github/CCIR-Academy/Techcamp2021S-Phase2/blob/main/Project_2.ipynb\" target=\"_parent\"><img src=\"https://colab.research.google.com/assets/colab-badge.svg\" alt=\"Open In Colab\"/></a>"
      ]
    },
    {
      "cell_type": "markdown",
      "metadata": {
        "id": "v6MmYObZx1UT"
      },
      "source": [
        "# Project 2: Genchi\n",
        "\n",
        "## Goal\n",
        "1. Learn to set up a local Python environment with Anaconda.\n",
        "2. Learn to prepare data of natural language.\n",
        "3. Learn to generate a word cloud with a third-party library.\n",
        "\n"
      ]
    },
    {
      "cell_type": "code",
      "metadata": {
        "id": "JzWSHu2UyQLm"
      },
      "source": [
        "## ←Click this button on to run the python code in this cell to check if you have finished all the tasks!\n",
        "#@title Task Checkbox\n",
        "#@markdown #### 1. Prepare an Anaconda environment locally\n",
        "isTask1Checked = False #@param {type:\"boolean\"}\n",
        "#@markdown #### 2. Load the data.\n",
        "isTask2Checked = False #@param {type:\"boolean\"}\n",
        "#@markdown #### 3. Trim and clean the data according to the library documentation.\n",
        "isTask3Checked = False #@param {type:\"boolean\"}\n",
        "#@markdown #### 4. Generate a word cloud\n",
        "isTask4Checked = False #@param {type:\"boolean\"}\n",
        "\n",
        "AllTasksChecked = False\n",
        "if isTask1Checked & isTask1Checked & isTask2Checked & isTask3Checked & isTask4Checked:\n",
        "  allTasksChecked = True\n",
        "\n",
        "if allTasksChecked:\n",
        "  print(\"You have finished all the tasks! Good job!\")\n",
        "else:\n",
        "  print(\"You still have unfinished task(s)...\")\n"
      ],
      "execution_count": null,
      "outputs": []
    }
  ]
}