{
  "nbformat": 4,
  "nbformat_minor": 0,
  "metadata": {
    "colab": {
      "name": "Project_2.ipynb",
      "provenance": [],
      "collapsed_sections": [],
      "toc_visible": true,
      "authorship_tag": "ABX9TyOZjLcZR9imkUCLykymZoXo",
      "include_colab_link": true
    },
    "kernelspec": {
      "name": "python3",
      "display_name": "Python 3"
    },
    "language_info": {
      "name": "python"
    }
  },
  "cells": [
    {
      "cell_type": "markdown",
      "metadata": {
        "id": "view-in-github",
        "colab_type": "text"
      },
      "source": [
        "<a href=\"https://colab.research.google.com/github/CCIR-Academy/Techcamp2021S-Phase2/blob/main/Project_2.ipynb\" target=\"_parent\"><img src=\"https://colab.research.google.com/assets/colab-badge.svg\" alt=\"Open In Colab\"/></a>"
      ]
    },
    {
      "cell_type": "markdown",
      "metadata": {
        "id": "v6MmYObZx1UT"
      },
      "source": [
        "# Project 2: Genchi\n"
      ]
    },
    {
      "cell_type": "markdown",
      "metadata": {
        "id": "cBJY0rQVN15U"
      },
      "source": [
        "## Goal\n",
        "1. Learn to set up a local Python environment with Anaconda.\n",
        "2. Learn to prepare data of natural language.\n",
        "3. Learn to generate a word cloud with a third-party library.\n"
      ]
    },
    {
      "cell_type": "markdown",
      "metadata": {
        "id": "U3Qd9XlYNhwb"
      },
      "source": [
        "## Note\n",
        "- This guided project is built on the basis of [TommyZihao\n",
        "/zihaowordcloud](https://github.com/TommyZihao/zihaowordcloud). For further readings (in Chinese), check out this blog: https://www.cnblogs.com/wkfvawl/p/11585986.html\n",
        "- This guided project heavily imports modules from [amueller/word_cloud](https://github.com/amueller/word_cloud), which is also distributed on pypi. For further documentations, check out its official GitHub page."
      ]
    },
    {
      "cell_type": "markdown",
      "metadata": {
        "id": "3vFC1WlnOB2a"
      },
      "source": [
        "## Task Checkbox"
      ]
    },
    {
      "cell_type": "code",
      "metadata": {
        "id": "JzWSHu2UyQLm",
        "cellView": "form"
      },
      "source": [
        "#@markdown #### ← Click this button to run the python code in this cell to check if you have finished all the tasks! \n",
        "#@markdown #### 1. Prepare an Anaconda environment locally\n",
        "isTask1Checked = False #@param {type:\"boolean\"}\n",
        "#@markdown #### 2. Load the data.\n",
        "isTask2Checked = False #@param {type:\"boolean\"}\n",
        "#@markdown #### 3. Trim and clean the data according to the library documentation.\n",
        "isTask3Checked = False #@param {type:\"boolean\"}\n",
        "#@markdown #### 4. Generate a word cloud\n",
        "isTask4Checked = False #@param {type:\"boolean\"}\n",
        "\n",
        "AllTasksChecked = False\n",
        "if isTask1Checked & isTask1Checked & isTask2Checked & isTask3Checked & isTask4Checked:\n",
        "  allTasksChecked = True\n",
        "\n",
        "if allTasksChecked:\n",
        "  print(\"You have finished all the tasks! Good job!\")\n",
        "else:\n",
        "  print(\"You still have unfinished task(s)...\")\n"
      ],
      "execution_count": null,
      "outputs": []
    },
    {
      "cell_type": "markdown",
      "metadata": {
        "id": "e01vdio0M5OJ"
      },
      "source": [
        "# Walkthrough"
      ]
    },
    {
      "cell_type": "markdown",
      "metadata": {
        "id": "EHahXQkMQoB4"
      },
      "source": [
        "## 0. Set up a new repository on GitHub with VSCode"
      ]
    },
    {
      "cell_type": "markdown",
      "metadata": {
        "id": "ZqOBRbjDM8_5"
      },
      "source": [
        "## 1. Prepare an Anaconda environment locally\n",
        "- Install Anaconda and initialize the local environment\n",
        "    - `conda init`\n",
        "- Create a local virtual environment with Anaconda and activate it.\n",
        "    - `conda create -n wordCloud python=3.8`\n",
        "    - `conda activate wordCloud`\n",
        "        - You're supposed to see `(wordCloud)` appears at the beginning of the new line.\n",
        "- Install the necessary packages with `pip`:\n",
        "    - `pip install numpy matplotlib pillow wordcloud imageio`"
      ]
    },
    {
      "cell_type": "markdown",
      "metadata": {
        "id": "_Ochb-g8PHwD"
      },
      "source": [
        "## 2. Prepare your data in natural language.\n",
        "- Find the text you would like to create a word cloud for, and put them into a .txt file under the same directory."
      ]
    },
    {
      "cell_type": "markdown",
      "metadata": {
        "id": "R5hIbEq8Q3Gi"
      },
      "source": [
        "## 3. Create the main.py, and copy/paste the following code."
      ]
    },
    {
      "cell_type": "code",
      "metadata": {
        "id": "J3T7EQ0WSSeR"
      },
      "source": [
        "import wordcloud\n",
        "myWordCloud = wordcloud.WordCloud()\n",
        "with open('myText.txt', encoding='utf-8') as f:\n",
        "    myWordCloud.generate(f.read())\n",
        "myWordCloud.toFile('myWordCloud.png)"
      ],
      "execution_count": null,
      "outputs": []
    },
    {
      "cell_type": "markdown",
      "metadata": {
        "id": "8vFprwtXSZMi"
      },
      "source": [
        "- Using `if __name__ == '__main__':` to manipulate the behaviour of opening a .py file in different ways."
      ]
    },
    {
      "cell_type": "markdown",
      "metadata": {
        "id": "mJU5J1VvSuZF"
      },
      "source": [
        "## 4. Modify the appearance of the word cloud with arguments.\n"
      ]
    },
    {
      "cell_type": "code",
      "metadata": {
        "id": "3641vzV5S7qZ"
      },
      "source": [
        "myWordCloud = wordcloud.WordCloud(\n",
        "    width=1000,\n",
        "    height=700,\n",
        "    background_color='white',\n",
        "    font_path='msyh.ttc'\n",
        ")"
      ],
      "execution_count": null,
      "outputs": []
    },
    {
      "cell_type": "markdown",
      "metadata": {
        "id": "s6T6HLm4TJ8m"
      },
      "source": [
        "### Arguments\n",
        "- width: (default: 400)\n",
        "- height: (default: 200)\n",
        "- background_color: (default: \"black\")\n",
        "- mask: A mask to define the shape of the cloud. Rectagon in default.\n",
        "- For other arguments, check out [the official GitHub page of `wordcloud`]((https://github.com/amueller/word_cloud)\n"
      ]
    },
    {
      "cell_type": "code",
      "metadata": {
        "id": "NttDaMCAU2aE"
      },
      "source": [
        "import imageio\n",
        "myMask = imageio.imread(\"picture.png\")\n",
        "myWordCloud = wordcloud.WordCloud(mask=myMask)"
      ],
      "execution_count": null,
      "outputs": []
    }
  ]
}