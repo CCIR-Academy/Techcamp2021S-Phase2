{
  "nbformat": 4,
  "nbformat_minor": 0,
  "metadata": {
    "colab": {
      "name": "OCR_basic.ipynb",
      "provenance": [],
      "authorship_tag": "ABX9TyPLOCnWFp7pJbsLiQAMTjgO",
      "include_colab_link": true
    },
    "kernelspec": {
      "name": "python3",
      "display_name": "Python 3"
    },
    "language_info": {
      "name": "python"
    }
  },
  "cells": [
    {
      "cell_type": "markdown",
      "metadata": {
        "id": "view-in-github",
        "colab_type": "text"
      },
      "source": [
        "<a href=\"https://colab.research.google.com/github/Arunimad/CCIR/blob/main/OCR_basic.ipynb\" target=\"_parent\"><img src=\"https://colab.research.google.com/assets/colab-badge.svg\" alt=\"Open In Colab\"/></a>"
      ]
    },
    {
      "cell_type": "code",
      "metadata": {
        "id": "5FjDW-HqhWTt"
      },
      "source": [
        "!sudo apt install tesseract-ocr\n",
        "!pip install pytesseract"
      ],
      "execution_count": null,
      "outputs": []
    },
    {
      "cell_type": "code",
      "metadata": {
        "id": "74OtDCPnhezt"
      },
      "source": [
        "import pytesseract\n",
        "import shutil\n",
        "import os\n",
        "import random\n",
        "import cv2\n",
        "import matplotlib.pyplot as plt\n",
        "import numpy as np\n",
        "\n"
      ],
      "execution_count": 37,
      "outputs": []
    },
    {
      "cell_type": "code",
      "metadata": {
        "id": "V1vIf3nUhj_f"
      },
      "source": [
        "from google.colab import files\n",
        "uploaded = files.upload()\n"
      ],
      "execution_count": null,
      "outputs": []
    },
    {
      "cell_type": "code",
      "metadata": {
        "id": "xqDPaWiHhrPH"
      },
      "source": [
        "extractedInformation = pytesseract.image_to_string('student.png')\n",
        "print(extractedInformation)"
      ],
      "execution_count": null,
      "outputs": []
    },
    {
      "cell_type": "code",
      "metadata": {
        "id": "Ignd-25uiD0P"
      },
      "source": [
        "print(pytesseract.image_to_boxes('student.png'))"
      ],
      "execution_count": null,
      "outputs": []
    },
    {
      "cell_type": "code",
      "metadata": {
        "id": "-c-y33svl2ZL"
      },
      "source": [
        "from google.colab import files\n",
        "uploaded = files.upload()"
      ],
      "execution_count": null,
      "outputs": []
    },
    {
      "cell_type": "code",
      "metadata": {
        "id": "vXCFguYnl6LF"
      },
      "source": [
        "extractedInformation = pytesseract.image_to_string('student_white.png')\n",
        "print(extractedInformation)"
      ],
      "execution_count": null,
      "outputs": []
    },
    {
      "cell_type": "code",
      "metadata": {
        "id": "d4RxKNRXmwOx"
      },
      "source": [
        "img = cv2.imread('student_black.png')\n",
        "plt.figure()\n",
        "plt.imshow(img, interpolation=\"bilinear\")\n",
        "plt.axis(\"off\")\n",
        "plt.show()\n"
      ],
      "execution_count": null,
      "outputs": []
    },
    {
      "cell_type": "code",
      "metadata": {
        "id": "siMrOQ5dm3qK"
      },
      "source": [
        "gray = cv2.cvtColor(img, cv2.COLOR_RGB2GRAY)\n",
        "plt.figure()\n",
        "plt.imshow(gray, interpolation=\"bilinear\")\n",
        "plt.axis(\"off\")\n",
        "plt.show()"
      ],
      "execution_count": null,
      "outputs": []
    },
    {
      "cell_type": "code",
      "metadata": {
        "id": "AfDWoYjIndaU"
      },
      "source": [
        "gray, img_bin = cv2.threshold(gray,128,255,cv2.THRESH_BINARY | cv2.THRESH_OTSU)\n",
        "gray = cv2.bitwise_not(img_bin)\n",
        "plt.figure()\n",
        "plt.imshow(gray, interpolation=\"bilinear\")\n",
        "plt.axis(\"off\")\n",
        "plt.show()\n"
      ],
      "execution_count": null,
      "outputs": []
    },
    {
      "cell_type": "code",
      "metadata": {
        "id": "dBeGSXX2nt3p"
      },
      "source": [
        "kernel = np.ones((2, 1), np.uint8)\n"
      ],
      "execution_count": 73,
      "outputs": []
    },
    {
      "cell_type": "code",
      "metadata": {
        "id": "quUqmgBKn1oj"
      },
      "source": [
        "img = cv2.erode(gray, kernel, iterations=1)\n",
        "plt.figure()\n",
        "plt.imshow(img, interpolation=\"bilinear\")\n",
        "plt.axis(\"off\")\n",
        "plt.show()"
      ],
      "execution_count": null,
      "outputs": []
    },
    {
      "cell_type": "code",
      "metadata": {
        "id": "8nEF9Oezn_E7"
      },
      "source": [
        "img = cv2.dilate(img, kernel, iterations=1)\n",
        "plt.figure()\n",
        "plt.imshow(img, interpolation=\"bilinear\")\n",
        "plt.axis(\"off\")\n",
        "plt.show()"
      ],
      "execution_count": null,
      "outputs": []
    },
    {
      "cell_type": "code",
      "metadata": {
        "id": "JRXxm6Lloyl6"
      },
      "source": [
        "extractedInformation = pytesseract.image_to_string(img)\n",
        "print(extractedInformation)"
      ],
      "execution_count": null,
      "outputs": []
    },
    {
      "cell_type": "code",
      "metadata": {
        "id": "eLS83120p1xK"
      },
      "source": [
        "from google.colab import files\n",
        "uploaded = files.upload()"
      ],
      "execution_count": null,
      "outputs": []
    },
    {
      "cell_type": "code",
      "metadata": {
        "id": "_E4bsdyqpwEO"
      },
      "source": [
        "img = cv2.imread('student_black.png')\n",
        "gray = cv2.cvtColor(img, cv2.COLOR_RGB2GRAY)\n",
        "gray, img_bin = cv2.threshold(gray,128,255,cv2.THRESH_BINARY | cv2.THRESH_OTSU)\n",
        "gray = cv2.bitwise_not(img_bin)\n",
        "kernel = np.ones((2, 1), np.uint8)\n",
        "img = cv2.erode(gray, kernel, iterations=1)\n",
        "img = cv2.dilate(img, kernel, iterations=1)\n",
        "extractedInformation = pytesseract.image_to_string(img)\n",
        "print(extractedInformation)"
      ],
      "execution_count": null,
      "outputs": []
    }
  ]
}