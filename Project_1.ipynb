{
  "nbformat": 4,
  "nbformat_minor": 0,
  "metadata": {
    "colab": {
      "name": "Project_1.ipynb",
      "provenance": [],
      "collapsed_sections": [],
      "authorship_tag": "ABX9TyMock/dfhVbF7qSkA+T8skc",
      "include_colab_link": true
    },
    "kernelspec": {
      "name": "python3",
      "display_name": "Python 3"
    },
    "language_info": {
      "name": "python"
    }
  },
  "cells": [
    {
      "cell_type": "markdown",
      "metadata": {
        "id": "view-in-github",
        "colab_type": "text"
      },
      "source": [
        "<a href=\"https://colab.research.google.com/github/CCIR-Academy/Techcamp2021S-Phase2/blob/main/Project_1.ipynb\" target=\"_parent\"><img src=\"https://colab.research.google.com/assets/colab-badge.svg\" alt=\"Open In Colab\"/></a>"
      ]
    },
    {
      "cell_type": "markdown",
      "metadata": {
        "id": "xIngku9RTWaq"
      },
      "source": [
        "# Project 1: NeutroCheck\n",
        "\n",
        "## Goal\n",
        "1. Get familiar with basic dataset manipulation with pandas\n",
        "2. Wrap up skills and knowledges for transitioning to more project based learning.\n"
      ]
    },
    {
      "cell_type": "code",
      "metadata": {
        "id": "Ot3Uk8Q4Uhgx"
      },
      "source": [
        "## ←Click this button on to run the python code in this cell to check if you have finished all the tasks!\n",
        "#@title Task Checkbox\n",
        "#@markdown #### 1. Obtain a database from kaggle \n",
        "isTask1Checked = False #@param {type:\"boolean\"}\n",
        "#@markdown #### 2. Set up a notebook environment in Colab\n",
        "isTask2Checked = False #@param {type:\"boolean\"}\n",
        "#@markdown #### 3. Load the dataset to pandas in the Colab notebook environment\n",
        "isTask3Checked = False #@param {type:\"boolean\"}\n",
        "#@markdown #### 4. Describe the sample with regards to any 5 of the 14 attributes with `pandas.DataFrame.describe()`\n",
        "isTask4Checked = False #@param {type:\"boolean\"}\n",
        "#@markdown #### 5. Generate meaningful plots with the attributes selected previously.\n",
        "isTask5Checked = False #@param {type:\"boolean\"}\n",
        "\n",
        "AllTasksChecked = False\n",
        "if isTask1Checked & isTask1Checked & isTask2Checked & isTask3Checked & isTask4Checked & isTask5Checked:\n",
        "  allTasksChecked = True\n",
        "\n",
        "if allTasksChecked:\n",
        "  print(\"You have finished all the tasks! Good job!\")\n",
        "else:\n",
        "  print(\"You still have unfinished task(s)...\")\n"
      ],
      "execution_count": null,
      "outputs": []
    }
  ]
}