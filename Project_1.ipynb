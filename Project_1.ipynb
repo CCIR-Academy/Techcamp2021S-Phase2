{
  "nbformat": 4,
  "nbformat_minor": 0,
  "metadata": {
    "colab": {
      "name": "Project_1.ipynb",
      "provenance": [],
      "collapsed_sections": [],
      "authorship_tag": "ABX9TyP4xTi0mBX0VGUwBV1s6azb",
      "include_colab_link": true
    },
    "kernelspec": {
      "name": "python3",
      "display_name": "Python 3"
    },
    "language_info": {
      "name": "python"
    }
  },
  "cells": [
    {
      "cell_type": "markdown",
      "metadata": {
        "id": "view-in-github",
        "colab_type": "text"
      },
      "source": [
        "<a href=\"https://colab.research.google.com/github/CCIR-Academy/Techcamp2021S-Phase2/blob/main/Project_1.ipynb\" target=\"_parent\"><img src=\"https://colab.research.google.com/assets/colab-badge.svg\" alt=\"Open In Colab\"/></a>"
      ]
    },
    {
      "cell_type": "markdown",
      "metadata": {
        "id": "xIngku9RTWaq"
      },
      "source": [
        "# Project 1: NeutroCheck\n",
        "\n",
        "## Goal\n",
        "1. Get familiar with basic dataset manipulation with pandas\n",
        "2. Wrap up skills and knowledges for transitioning to more project based learning.\n"
      ]
    },
    {
      "cell_type": "code",
      "metadata": {
        "colab": {
          "base_uri": "https://localhost:8080/"
        },
        "id": "Ot3Uk8Q4Uhgx",
        "outputId": "bae2b2f1-385b-471b-c538-8e9a8d03c538"
      },
      "source": [
        "#@title Task Checkbox\n",
        "#@markdown #### 1. Obtain a database from kaggle \n",
        "IsTask1Checked = False #@param {type:\"boolean\"}\n",
        "#@markdown #### 2. Set up a notebook environment in Colab\n",
        "IsTask2Checked = False #@param {type:\"boolean\"}\n",
        "#@markdown #### 3. Load the dataset to pandas in the Colab notebook environment\n",
        "IsTask3Checked = False #@param {type:\"boolean\"}\n",
        "#@markdown #### 4. Describe the sample with regards to any 5 of the 14 attributes with `pandas.DataFrame.describe()`\n",
        "IsTask4Checked = False #@param {type:\"boolean\"}\n",
        "\n",
        "AllTasksChecked = False\n",
        "if IsTask1Checked & IsTask1Checked & IsTask2Checked & IsTask3Checked & IsTask4Checked:\n",
        "  AllTasksChecked = True\n",
        "\n",
        "if AllTasksChecked:\n",
        "  print(\"You have finished all the tasks! Good job!\")\n",
        "else:\n",
        "  print(\"You still have unfinished task(s)...\")\n"
      ],
      "execution_count": 4,
      "outputs": [
        {
          "output_type": "stream",
          "text": [
            "You still have unfinished task(s)...\n"
          ],
          "name": "stdout"
        }
      ]
    }
  ]
}