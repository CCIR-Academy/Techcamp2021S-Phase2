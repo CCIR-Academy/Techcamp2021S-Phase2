{
  "nbformat": 4,
  "nbformat_minor": 0,
  "metadata": {
    "colab": {
      "name": "Project_1.ipynb",
      "provenance": [],
      "collapsed_sections": [],
      "toc_visible": true,
      "authorship_tag": "ABX9TyOoXAP6UsQUKvWMzlNfOwDr",
      "include_colab_link": true
    },
    "kernelspec": {
      "name": "python3",
      "display_name": "Python 3"
    },
    "language_info": {
      "name": "python"
    }
  },
  "cells": [
    {
      "cell_type": "markdown",
      "metadata": {
        "id": "view-in-github",
        "colab_type": "text"
      },
      "source": [
        "<a href=\"https://colab.research.google.com/github/CCIR-Academy/Techcamp2021S-Phase2/blob/main/Project_1.ipynb\" target=\"_parent\"><img src=\"https://colab.research.google.com/assets/colab-badge.svg\" alt=\"Open In Colab\"/></a>"
      ]
    },
    {
      "cell_type": "markdown",
      "metadata": {
        "id": "xIngku9RTWaq"
      },
      "source": [
        "# Project 1: NeutroCheck\n",
        "\n",
        "## Goal\n",
        "1. Get familiar with basic dataset manipulation with pandas\n",
        "2. Wrap up skills and knowledges for transitioning to more project based learning.\n"
      ]
    },
    {
      "cell_type": "code",
      "metadata": {
        "id": "Ot3Uk8Q4Uhgx",
        "cellView": "form"
      },
      "source": [
        "#@title Task Checkbox\n",
        "#@markdown #### ↖ Click this button to run the python code in this cell to check if you have finished all the tasks! \n",
        "#@markdown #### 1. Obtain a database from kaggle \n",
        "isTask1Checked = False #@param {type:\"boolean\"}\n",
        "#@markdown #### 2. Set up a notebook environment in Colab\n",
        "isTask2Checked = False #@param {type:\"boolean\"}\n",
        "#@markdown #### 3. Load the dataset to pandas in the Colab notebook environment\n",
        "isTask3Checked = False #@param {type:\"boolean\"}\n",
        "#@markdown #### 4. Describe the sample with regards to any 5 of the 14 attributes with `pandas.DataFrame.describe()`\n",
        "isTask4Checked = False #@param {type:\"boolean\"}\n",
        "#@markdown #### 5. Generate meaningful plots with the attributes selected previously.\n",
        "isTask5Checked = False #@param {type:\"boolean\"}\n",
        "\n",
        "allTasksChecked = False\n",
        "if isTask1Checked & isTask1Checked & isTask2Checked & isTask3Checked & isTask4Checked & isTask5Checked:\n",
        "  allTasksChecked = True\n",
        "\n",
        "if allTasksChecked:\n",
        "  print(\"You have finished all the tasks! Good job!\")\n",
        "else:\n",
        "  print(\"You still have unfinished task(s)...\")\n"
      ],
      "execution_count": null,
      "outputs": []
    },
    {
      "cell_type": "markdown",
      "metadata": {
        "id": "OyXaJb9aCvnO"
      },
      "source": [
        "# Walkthrough\n"
      ]
    },
    {
      "cell_type": "markdown",
      "metadata": {
        "id": "Xh3ZNSbuC4hG"
      },
      "source": [
        "## 1. Preparing the dataset\n",
        "- Download the Dataset: Heart Disease UCI (https://www.kaggle.com/ronitf/heart-disease-uci)\n",
        "- Understand the structure of the data\n",
        "    - Format:\n",
        "        - CSV Format: ## Explain CSV format   \n",
        "    - Data Type\n",
        "        - Nominal/Categorical\n",
        "        - Ordinal\n",
        "        - Quantitative\n",
        "            - Sometimes some categorical data would be collected as numbers.\n",
        "- Preprocess the dataset (To be discussed in Phase 3)\n",
        "    - Missing Data\n",
        "    - Contaminated Data\n",
        "    - Abnormal Data\n",
        "- Loading the data\n",
        "\n",
        "\n"
      ]
    },
    {
      "cell_type": "markdown",
      "metadata": {
        "id": "HhpsE7e8K97y"
      },
      "source": [
        "## 2. Conduct basic statistical analysis on the data.\n",
        "\n",
        "\n",
        " "
      ]
    },
    {
      "cell_type": "markdown",
      "metadata": {
        "id": "EjSSmO7WK-zF"
      },
      "source": [
        "## 3. Output your analysis in Colab."
      ]
    }
  ]
}