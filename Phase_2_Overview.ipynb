{
  "nbformat": 4,
  "nbformat_minor": 0,
  "metadata": {
    "colab": {
      "name": "Phase_2_Overview.ipynb",
      "provenance": [],
      "authorship_tag": "ABX9TyPfyCXSVRWzlVrLiDB1XAG2",
      "include_colab_link": true
    },
    "kernelspec": {
      "name": "python3",
      "display_name": "Python 3"
    },
    "language_info": {
      "name": "python"
    }
  },
  "cells": [
    {
      "cell_type": "markdown",
      "metadata": {
        "id": "view-in-github",
        "colab_type": "text"
      },
      "source": [
        "<a href=\"https://colab.research.google.com/github/CCIR-Academy/Techcamp2021S-Phase2/blob/main/Phase_2_Overview.ipynb\" target=\"_parent\"><img src=\"https://colab.research.google.com/assets/colab-badge.svg\" alt=\"Open In Colab\"/></a>"
      ]
    },
    {
      "cell_type": "markdown",
      "metadata": {
        "id": "ftVvHADqQd51"
      },
      "source": [
        "# Phase 2: Get on-hand experience in exploring realms of interests with Python\n",
        "## Course Design\n",
        "\n",
        "### Goals\n",
        "1. Ensure and confirm high level mastery of skills and know-hows to access references with questions:\n",
        "  - Aspects of Expected Mastery:\n",
        "    - Preparing IDE and environments:\n",
        "      - VSCode\n",
        "      - Anaconda\n",
        "      - Powershell 7\n",
        "      - pip\n",
        "    - Operational familiarity of using GitHub, e.g.:\n",
        "      - creating a repo, committing with meaningful message, rollback, using .gitignore, licensing.\n",
        "      - posting issues and discussions, forking, creating pull requests.\n",
        "    - Know where to find helpful reference and posting help requests in a meaningful way:\n",
        "      - Properly using Google\n",
        "      - Familiarity with some popular tutorial sites:\n",
        "        - https://www.tutorialspoint.com/python/index.htm\n",
        "        - https://www.w3schools.com/python/\n",
        "    - Operational familiarity with basic data types and syntax within the Python Standard Library:\n",
        "      - Set, list, dict, String, number, boolean\n",
        "      - Functions, condition and Iteration\n",
        "      - path, datetime, json, logging\n",
        "      - sqlite3\n",
        "    - Basic understanding of some frequently used library:\n",
        "      - requests\n",
        "      - PIL\n",
        "      - re\n",
        "  - \"High Level Mastery\" means minimum necessity to ask for dedicated help for questions that could be easily answered by independent searching and referencing.\n",
        "\n",
        "2. Get on-hand experience in the recursive paradigm in coding (prototype to somewhat agile development):\n",
        "  - Select features or improvement for a new sprint based on issues or discussions.\n",
        "  - Select approaches to implement features of improvement.\n",
        "  - Design code structures or alterations in existing structures.\n",
        "  - On-hand implementations of design.\n",
        "  - Revise along debugging and testing, or redesigning.\n",
        "  - Commit, push, and deliver. \n",
        "  - Generate sufficient and readable documentation\n",
        "  - Experience the program and post feedback as issues or discussion.\n",
        "\n",
        "3. Get on-hand experience in team coding:\n",
        "  - Posting meaningful issues.\n",
        "  - Review and develop meaningful issues into commits to close issues.\n",
        "  - Manage tasks in a team with GitHub.\n",
        "  - Provide sufficient documentation specifically about running/building environment.\n",
        "\n",
        "4. Develop an implementable plan for Phase 3 with regards to actual topic and scheduling."
      ]
    },
    {
      "cell_type": "markdown",
      "metadata": {
        "id": "SPcGO4OXR39H"
      },
      "source": [
        "### Forms of Instruction\n",
        "1. Project Labs: A series of guided labs.\n",
        "2. Coding Sessions (Three times a week) (One hour each, three hours in total)\n",
        "  - Mode of Instruction: \n",
        "    - Semi-structured gathering on Discord (either Voice or Text) as learners code freely on assignments or projects and ask instructors questions whenever they feel necessary.\n",
        "    - Relatively more structured discussions on GitHub where learners and instructors take part in solving more personalized questions.\n",
        "  - Features: \n",
        "  - Required Commitment: \n",
        "  - Note: Instructors of these sessions will make sure that all discussions posted before the session time are sufficiently answered by the end of the session each week.\n",
        "3. Seminars/Group Discussions\n",
        "4. Generate a project proposal with guidance as a Markdown Readme in a new GitHub repo.\n",
        "\n"
      ]
    },
    {
      "cell_type": "markdown",
      "metadata": {
        "id": "u6jJfppkSvIB"
      },
      "source": [
        "## Prepare for Phase 2\n",
        "- Ensuring good mastery of contents in Phase 1\n",
        "- Transition to project based learning"
      ]
    }
  ]
}